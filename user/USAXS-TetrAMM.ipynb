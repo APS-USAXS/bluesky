{
 "cells": [
  {
   "cell_type": "markdown",
   "metadata": {},
   "source": [
    "# USAXS TetrAMM\n",
    "\n",
    "prefix:   `usxTetr1:qe1:`\n",
    "\n",
    "> log into usaxsserver as usaxs, to get the aliases needed for the GUI screens"
   ]
  },
  {
   "cell_type": "code",
   "execution_count": 3,
   "metadata": {},
   "outputs": [
    {
     "name": "stdout",
     "output_type": "stream",
     "text": [
      "/home/beams/USAXS/bluesky/instrument/_iconfig.py\n",
      "Activating auto-logging. Current session state plus future input saved.\n",
      "Filename       : /home/beams11/USAXS/bluesky/user/.logs/ipython_console.log\n",
      "Mode           : rotate\n",
      "Output logging : True\n",
      "Raw input log  : False\n",
      "Timestamping   : True\n",
      "State          : active\n"
     ]
    },
    {
     "name": "stderr",
     "output_type": "stream",
     "text": [
      "I Sun-17:18:57 - ############################################################ startup\n",
      "I Sun-17:18:57 - logging started\n",
      "I Sun-17:18:57 - logging level = 10\n",
      "I Sun-17:18:57 - /home/beams/USAXS/bluesky/instrument/session_logs.py\n",
      "I Sun-17:18:57 - /home/beams/USAXS/bluesky/instrument/collection.py\n",
      "I Sun-17:18:57 - CONDA_PREFIX = /share1/bluesky/conda_envs/bluesky_2023_3\n"
     ]
    },
    {
     "name": "stdout",
     "output_type": "stream",
     "text": [
      "Exception reporting mode: Minimal\n"
     ]
    },
    {
     "name": "stderr",
     "output_type": "stream",
     "text": [
      "I Sun-17:18:57 - xmode exception level: 'Minimal'\n",
      "I Sun-17:18:57 - /home/beams/USAXS/bluesky/instrument/mpl/notebook.py\n",
      "I Sun-17:18:58 - #### Bluesky Framework ####\n",
      "I Sun-17:18:58 - /home/beams/USAXS/bluesky/instrument/framework/check_python.py\n",
      "I Sun-17:18:58 - /home/beams/USAXS/bluesky/instrument/framework/check_bluesky.py\n",
      "I Sun-17:18:58 - /home/beams/USAXS/bluesky/instrument/framework/initialize.py\n",
      "I Sun-17:18:58 - /home/beams/USAXS/bluesky/instrument/framework/metadata.py\n",
      "I Sun-17:18:58 - #### Devices ####\n",
      "I Sun-17:18:58 - /home/beams/USAXS/bluesky/instrument/devices/aps_source.py\n"
     ]
    },
    {
     "name": "stdout",
     "output_type": "stream",
     "text": [
      "/share1/bluesky/conda_envs/bluesky_2023_3/lib/python3.11/site-packages/apstools/devices/aps_data_management.py\n"
     ]
    },
    {
     "name": "stderr",
     "output_type": "stream",
     "text": [
      "I Sun-17:18:58 - /home/beams/USAXS/bluesky/instrument/devices/override_parameters.py\n",
      "I Sun-17:18:58 - /home/beams/USAXS/bluesky/instrument/devices/constants.py\n",
      "I Sun-17:18:58 - /home/beams/USAXS/bluesky/instrument/devices/general_terms.py\n",
      "I Sun-17:18:58 - /home/beams/USAXS/bluesky/instrument/devices/amplifiers.py\n",
      "I Sun-17:18:58 - /home/beams/USAXS/bluesky/instrument/devices/scalers.py\n",
      "I Sun-17:19:06 - /home/beams/USAXS/bluesky/instrument/devices/sample_data.py\n",
      "I Sun-17:19:06 - /home/beams/USAXS/bluesky/instrument/devices/motorsLAX.py\n",
      "I Sun-17:19:06 - /home/beams/USAXS/bluesky/instrument/devices/stages.py\n",
      "I Sun-17:19:06 - /home/beams/USAXS/bluesky/instrument/devices/usaxs_motor_devices.py\n",
      "I Sun-17:19:07 - /home/beams/USAXS/bluesky/instrument/devices/blackfly_module.py\n",
      "I Sun-17:19:07 - /home/beams/USAXS/bluesky/instrument/devices/area_detector_common.py\n",
      "W Sun-17:19:10 - Timeout connecting with PointGrey BlackFly (usxFLY1:)\n",
      "W Sun-17:19:13 - Timeout connecting with PointGrey BlackFly Optical (usxFLY2:): usxFLY2:cam1:Acquire_RBV could not connect within 3.0-second timeout.\n",
      "I Sun-17:19:13 - /home/beams/USAXS/bluesky/instrument/devices/pilatus_module.py\n",
      "I Sun-17:19:13 - #### Callbacks ####\n",
      "I Sun-17:19:13 - #### Plans ####\n",
      "I Sun-17:19:13 - #### Utilities ####\n",
      "I Sun-17:19:13 - #### Startup is complete. ####\n"
     ]
    }
   ],
   "source": [
    "import pathlib, sys\n",
    "sys.path.append(str(pathlib.Path.home() / \"bluesky\"))\n",
    "from instrument.collection import *"
   ]
  },
  {
   "cell_type": "code",
   "execution_count": 4,
   "metadata": {},
   "outputs": [],
   "source": [
    "from ophyd import TetrAMM"
   ]
  },
  {
   "cell_type": "code",
   "execution_count": 6,
   "metadata": {},
   "outputs": [],
   "source": [
    "tetramm = TetrAMM(\"usxTetr1:qe1:\", name=\"tetramm\")\n",
    "tetramm.wait_for_connection()"
   ]
  },
  {
   "cell_type": "code",
   "execution_count": 7,
   "metadata": {},
   "outputs": [
    {
     "data": {
      "text/plain": [
       "['acquire',\n",
       " 'acquire_mode',\n",
       " 'averaging_time',\n",
       " 'bias_interlock',\n",
       " 'bias_state',\n",
       " 'bias_voltage',\n",
       " 'conf',\n",
       " 'configuration_names',\n",
       " 'current1',\n",
       " 'current2',\n",
       " 'current3',\n",
       " 'current4',\n",
       " 'current_names',\n",
       " 'current_offset_calcs',\n",
       " 'current_offsets',\n",
       " 'current_scales',\n",
       " 'em_range',\n",
       " 'firmware',\n",
       " 'geometry',\n",
       " 'hvi_readback',\n",
       " 'hvs_readback',\n",
       " 'hvv_readback',\n",
       " 'image',\n",
       " 'integration_time',\n",
       " 'model',\n",
       " 'num_acquire',\n",
       " 'num_acquired',\n",
       " 'num_average',\n",
       " 'num_averaged',\n",
       " 'num_channels',\n",
       " 'ping_pong',\n",
       " 'position_offset_calc_x',\n",
       " 'position_offset_calc_y',\n",
       " 'position_offset_x',\n",
       " 'position_offset_y',\n",
       " 'position_scale_Y',\n",
       " 'position_scale_x',\n",
       " 'read_data',\n",
       " 'read_format',\n",
       " 'reset',\n",
       " 'resolution',\n",
       " 'ring_overflows',\n",
       " 'sample_time',\n",
       " 'sum_all',\n",
       " 'trigger_mode',\n",
       " 'values_per_read']"
      ]
     },
     "execution_count": 7,
     "metadata": {},
     "output_type": "execute_result"
    }
   ],
   "source": [
    "sorted(tetramm.component_names)"
   ]
  },
  {
   "cell_type": "code",
   "execution_count": 8,
   "metadata": {},
   "outputs": [
    {
     "name": "stdout",
     "output_type": "stream",
     "text": [
      "data keys (* hints)\n",
      "-------------------\n",
      "*tetramm_current1_mean_value\n",
      "*tetramm_current2_mean_value\n",
      "*tetramm_current3_mean_value\n",
      "*tetramm_current4_mean_value\n",
      " tetramm_current_names_ch1\n",
      " tetramm_current_names_ch2\n",
      " tetramm_current_names_ch3\n",
      " tetramm_current_names_ch4\n",
      " tetramm_current_offset_calcs_ch1\n",
      " tetramm_current_offset_calcs_ch2\n",
      " tetramm_current_offset_calcs_ch3\n",
      " tetramm_current_offset_calcs_ch4\n",
      " tetramm_current_offsets_ch1\n",
      " tetramm_current_offsets_ch2\n",
      " tetramm_current_offsets_ch3\n",
      " tetramm_current_offsets_ch4\n",
      " tetramm_current_scales_ch1\n",
      " tetramm_current_scales_ch2\n",
      " tetramm_current_scales_ch3\n",
      " tetramm_current_scales_ch4\n",
      " tetramm_position_offset_calc_x\n",
      " tetramm_position_offset_calc_y\n",
      " tetramm_position_offset_x\n",
      " tetramm_position_offset_y\n",
      " tetramm_position_scale_Y\n",
      " tetramm_position_scale_x\n",
      "\n",
      "read attrs\n",
      "----------\n",
      "current_names        CurrentNames        ('tetramm_current_names')\n",
      "current_names.ch1    EpicsSignal         ('tetramm_current_names_ch1')\n",
      "current_names.ch2    EpicsSignal         ('tetramm_current_names_ch2')\n",
      "current_names.ch3    EpicsSignal         ('tetramm_current_names_ch3')\n",
      "current_names.ch4    EpicsSignal         ('tetramm_current_names_ch4')\n",
      "current_offsets      CurrentOffsets      ('tetramm_current_offsets')\n",
      "current_offsets.ch1  EpicsSignal         ('tetramm_current_offsets_ch1')\n",
      "current_offsets.ch2  EpicsSignal         ('tetramm_current_offsets_ch2')\n",
      "current_offsets.ch3  EpicsSignal         ('tetramm_current_offsets_ch3')\n",
      "current_offsets.ch4  EpicsSignal         ('tetramm_current_offsets_ch4')\n",
      "current_offset_calcs CurrentOffsetCalcs  ('tetramm_current_offset_calcs')\n",
      "current_offset_calcs.ch1 EpicsSignal         ('tetramm_current_offset_calcs_ch1')\n",
      "current_offset_calcs.ch2 EpicsSignal         ('tetramm_current_offset_calcs_ch2')\n",
      "current_offset_calcs.ch3 EpicsSignal         ('tetramm_current_offset_calcs_ch3')\n",
      "current_offset_calcs.ch4 EpicsSignal         ('tetramm_current_offset_calcs_ch4')\n",
      "current_scales       CurrentScales       ('tetramm_current_scales')\n",
      "current_scales.ch1   EpicsSignal         ('tetramm_current_scales_ch1')\n",
      "current_scales.ch2   EpicsSignal         ('tetramm_current_scales_ch2')\n",
      "current_scales.ch3   EpicsSignal         ('tetramm_current_scales_ch3')\n",
      "current_scales.ch4   EpicsSignal         ('tetramm_current_scales_ch4')\n",
      "position_offset_x    EpicsSignal         ('tetramm_position_offset_x')\n",
      "position_offset_y    EpicsSignal         ('tetramm_position_offset_y')\n",
      "position_offset_calc_x EpicsSignal         ('tetramm_position_offset_calc_x')\n",
      "position_offset_calc_y EpicsSignal         ('tetramm_position_offset_calc_y')\n",
      "position_scale_x     EpicsSignal         ('tetramm_position_scale_x')\n",
      "position_scale_Y     EpicsSignal         ('tetramm_position_scale_Y')\n",
      "image                ImagePlugin         ('tetramm_image')\n",
      "current1             StatsPlugin         ('tetramm_current1')\n",
      "current1.mean_value  EpicsSignalRO       ('tetramm_current1_mean_value')\n",
      "current2             StatsPlugin         ('tetramm_current2')\n",
      "current2.mean_value  EpicsSignalRO       ('tetramm_current2_mean_value')\n",
      "current3             StatsPlugin         ('tetramm_current3')\n",
      "current3.mean_value  EpicsSignalRO       ('tetramm_current3_mean_value')\n",
      "current4             StatsPlugin         ('tetramm_current4')\n",
      "current4.mean_value  EpicsSignalRO       ('tetramm_current4_mean_value')\n",
      "sum_all              StatsPlugin         ('tetramm_sum_all')\n",
      "\n",
      "config keys\n",
      "-----------\n",
      "tetramm_averaging_time\n",
      "tetramm_configuration_names\n",
      "tetramm_integration_time\n",
      "\n",
      "configuration attrs\n",
      "-------------------\n",
      "configuration_names  ArrayAttributeSignal('tetramm_configuration_names')\n",
      "integration_time     EpicsSignalWithRBV  ('tetramm_integration_time')\n",
      "averaging_time       EpicsSignalWithRBV  ('tetramm_averaging_time')\n",
      "current_names        CurrentNames        ('tetramm_current_names')\n",
      "current_offsets      CurrentOffsets      ('tetramm_current_offsets')\n",
      "current_offset_calcs CurrentOffsetCalcs  ('tetramm_current_offset_calcs')\n",
      "current_scales       CurrentScales       ('tetramm_current_scales')\n",
      "image                ImagePlugin         ('tetramm_image')\n",
      "current1             StatsPlugin         ('tetramm_current1')\n",
      "current2             StatsPlugin         ('tetramm_current2')\n",
      "current3             StatsPlugin         ('tetramm_current3')\n",
      "current4             StatsPlugin         ('tetramm_current4')\n",
      "sum_all              StatsPlugin         ('tetramm_sum_all')\n",
      "\n",
      "unused attrs\n",
      "------------\n",
      "conf                 QuadEMPort          ('tetramm_conf')\n",
      "model                EpicsSignalRO       ('tetramm_model')\n",
      "firmware             EpicsSignalRO       ('tetramm_firmware')\n",
      "acquire_mode         EpicsSignalWithRBV  ('tetramm_acquire_mode')\n",
      "acquire              EpicsSignal         ('tetramm_acquire')\n",
      "read_format          EpicsSignalWithRBV  ('tetramm_read_format')\n",
      "em_range             EpicsSignalWithRBV  ('tetramm_em_range')\n",
      "ping_pong            EpicsSignalWithRBV  ('tetramm_ping_pong')\n",
      "num_channels         EpicsSignalWithRBV  ('tetramm_num_channels')\n",
      "geometry             EpicsSignalWithRBV  ('tetramm_geometry')\n",
      "resolution           EpicsSignalWithRBV  ('tetramm_resolution')\n",
      "bias_state           EpicsSignalWithRBV  ('tetramm_bias_state')\n",
      "bias_interlock       EpicsSignalWithRBV  ('tetramm_bias_interlock')\n",
      "bias_voltage         EpicsSignalWithRBV  ('tetramm_bias_voltage')\n",
      "hvs_readback         EpicsSignalRO       ('tetramm_hvs_readback')\n",
      "hvv_readback         EpicsSignalRO       ('tetramm_hvv_readback')\n",
      "hvi_readback         EpicsSignalRO       ('tetramm_hvi_readback')\n",
      "values_per_read      EpicsSignalWithRBV  ('tetramm_values_per_read')\n",
      "sample_time          EpicsSignalRO       ('tetramm_sample_time')\n",
      "num_average          EpicsSignalRO       ('tetramm_num_average')\n",
      "num_averaged         EpicsSignalRO       ('tetramm_num_averaged')\n",
      "num_acquire          EpicsSignalWithRBV  ('tetramm_num_acquire')\n",
      "num_acquired         EpicsSignalRO       ('tetramm_num_acquired')\n",
      "read_data            EpicsSignalRO       ('tetramm_read_data')\n",
      "ring_overflows       EpicsSignalRO       ('tetramm_ring_overflows')\n",
      "trigger_mode         EpicsSignal         ('tetramm_trigger_mode')\n",
      "reset                EpicsSignal         ('tetramm_reset')\n",
      "\n"
     ]
    }
   ],
   "source": [
    "tetramm.summary()"
   ]
  },
  {
   "cell_type": "code",
   "execution_count": 9,
   "metadata": {},
   "outputs": [
    {
     "name": "stdout",
     "output_type": "stream",
     "text": [
      "tetramm.read()\n",
      "================================ ========= ==========================\n",
      "name                             value     timestamp                 \n",
      "================================ ========= ==========================\n",
      "tetramm_current_names_ch1        1         IOC boot                  \n",
      "tetramm_current_names_ch2        2         IOC boot                  \n",
      "tetramm_current_names_ch3        3         IOC boot                  \n",
      "tetramm_current_names_ch4        4         IOC boot                  \n",
      "tetramm_current_offsets_ch1      0.0       2024-06-14 08:41:51.328904\n",
      "tetramm_current_offsets_ch2      0.0       2024-06-14 08:41:51.328905\n",
      "tetramm_current_offsets_ch3      0.0       2024-06-14 08:41:51.328905\n",
      "tetramm_current_offsets_ch4      0.0       2024-06-14 08:41:51.328906\n",
      "tetramm_current_offset_calcs_ch1 0.0       IOC boot                  \n",
      "tetramm_current_offset_calcs_ch2 0.0       IOC boot                  \n",
      "tetramm_current_offset_calcs_ch3 0.0       IOC boot                  \n",
      "tetramm_current_offset_calcs_ch4 0.0       IOC boot                  \n",
      "tetramm_current_scales_ch1       1.0       2024-06-14 08:41:51.328907\n",
      "tetramm_current_scales_ch2       1.0       2024-06-14 08:41:51.328908\n",
      "tetramm_current_scales_ch3       1.0       2024-06-14 08:41:51.328908\n",
      "tetramm_current_scales_ch4       1.0       2024-06-14 08:41:51.328909\n",
      "tetramm_position_offset_x        0.0       2024-06-14 08:41:51.328910\n",
      "tetramm_position_offset_y        0.0       2024-06-14 08:41:51.328910\n",
      "tetramm_position_offset_calc_x   0.0       IOC boot                  \n",
      "tetramm_position_offset_calc_y   0.0       IOC boot                  \n",
      "tetramm_position_scale_x         1000000.0 2024-06-14 08:41:51.328911\n",
      "tetramm_position_scale_Y         1000000.0 2024-06-14 08:41:51.328912\n",
      "tetramm_current1_mean_value      0.0       IOC boot                  \n",
      "tetramm_current2_mean_value      0.0       IOC boot                  \n",
      "tetramm_current3_mean_value      0.0       IOC boot                  \n",
      "tetramm_current4_mean_value      0.0       IOC boot                  \n",
      "================================ ========= ==========================\n",
      "\n",
      "tetramm.read_configuration()\n",
      "=========================== ============================================================ ==========================\n",
      "name                        value                                                        timestamp                 \n",
      "=========================== ============================================================ ==========================\n",
      "tetramm_configuration_names ['tetramm_configuration_names' 'tetramm_integration_time'    2024-06-16 17:21:23.861869\n",
      "                             'tetramm_averaging_time' 'tetramm_current_names'                                      \n",
      "                             'tetramm_current_offsets' 'tetramm_current_offset_calcs'                              \n",
      "                             'tetramm_current_scales' 'tetramm_image' 'tetramm_current1'                           \n",
      "                             'tetramm_current2' 'tetramm_current3' 'tetramm_current4'                              \n",
      "                             'tetramm_sum_all']                                                                    \n",
      "tetramm_integration_time    0.0                                                          2024-06-14 08:41:51.328855\n",
      "tetramm_averaging_time      0.1                                                          2024-06-14 08:41:51.328878\n",
      "=========================== ============================================================ ==========================\n",
      "\n"
     ]
    }
   ],
   "source": [
    "import datetime\n",
    "from pyRestTable import Table\n",
    "\n",
    "\n",
    "def ts2dt(ts):\n",
    "    if ts < 1_000_000_000:\n",
    "        return \"IOC boot\"\n",
    "    else:\n",
    "        return datetime.datetime.fromtimestamp(ts)\n",
    "\n",
    "\n",
    "def show_it(tetra, reader=\"read\"):\n",
    "    table = Table()\n",
    "    table.labels = \"name value timestamp\".split()\n",
    "    table.rows = [\n",
    "        (k, v[\"value\"], ts2dt(v[\"timestamp\"]))\n",
    "        for k, v in getattr(tetra, reader)().items()\n",
    "    ]\n",
    "    print(f\"tetramm.{reader}()\")\n",
    "    print(table)\n",
    "\n",
    "\n",
    "show_it(tetramm, \"read\")\n",
    "show_it(tetramm, \"read_configuration\")"
   ]
  },
  {
   "cell_type": "code",
   "execution_count": 10,
   "metadata": {},
   "outputs": [
    {
     "data": {
      "text/plain": [
       "0.0"
      ]
     },
     "execution_count": 10,
     "metadata": {},
     "output_type": "execute_result"
    }
   ],
   "source": [
    "tetramm.current1.mean_value.get()"
   ]
  },
  {
   "cell_type": "code",
   "execution_count": null,
   "metadata": {},
   "outputs": [],
   "source": []
  },
  {
   "cell_type": "code",
   "execution_count": null,
   "metadata": {},
   "outputs": [],
   "source": []
  }
 ],
 "metadata": {
  "kernelspec": {
   "display_name": "Python 3 (ipykernel)",
   "language": "python",
   "name": "python3"
  },
  "language_info": {
   "codemirror_mode": {
    "name": "ipython",
    "version": 3
   },
   "file_extension": ".py",
   "mimetype": "text/x-python",
   "name": "python",
   "nbconvert_exporter": "python",
   "pygments_lexer": "ipython3",
   "version": "3.11.6"
  }
 },
 "nbformat": 4,
 "nbformat_minor": 4
}
